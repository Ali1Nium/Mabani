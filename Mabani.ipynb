{
 "cells": [
  {
   "cell_type": "markdown",
   "id": "5048fbee",
   "metadata": {},
   "source": [
    "# Tamrin Jalase dovom "
   ]
  },
  {
   "cell_type": "code",
   "execution_count": 1,
   "id": "0154ccf4",
   "metadata": {},
   "outputs": [
    {
     "name": "stdout",
     "output_type": "stream",
     "text": [
      "Enter Num 1 :5\n",
      "Enter Num 2 :10\n",
      "15\n"
     ]
    }
   ],
   "source": [
    "num1 = int(input(\"Enter Num 1 :\"))\n",
    "num2 = int(input(\"Enter Num 2 :\"))\n",
    "Sum = num1 + num2 \n",
    "print(Sum)"
   ]
  },
  {
   "cell_type": "code",
   "execution_count": 2,
   "id": "6801b29b",
   "metadata": {},
   "outputs": [
    {
     "name": "stdout",
     "output_type": "stream",
     "text": [
      "Enter Num1 : 10\n",
      "Enter Num2 : 20\n",
      "Second Num is bigger : 20! \n"
     ]
    }
   ],
   "source": [
    "Num1 = int(input(\"Enter Num1 : \"))\n",
    "Num2 = int(input(\"Enter Num2 : \"))\n",
    "\n",
    "if Num1 > Num2:\n",
    "    print(\"First Num is bigger :%s ! \" %(Num1))\n",
    "elif Num2 > Num1 : \n",
    "    print(\"Second Num is bigger : %s! \"%(Num2))\n",
    "else: \n",
    "    print(\"two numbers are equal\")\n",
    "    "
   ]
  },
  {
   "cell_type": "code",
   "execution_count": 3,
   "id": "c7f85dad",
   "metadata": {},
   "outputs": [
    {
     "name": "stdout",
     "output_type": "stream",
     "text": [
      "Enter Num1 : 20\n",
      "Enter Num2 : 30\n",
      "Enter Num3 : 10\n",
      "Second Num is bigger : 30! \n"
     ]
    }
   ],
   "source": [
    "Num1 = int(input(\"Enter Num1 : \"))\n",
    "Num2 = int(input(\"Enter Num2 : \"))\n",
    "Num3 = int(input(\"Enter Num3 : \"))\n",
    "\n",
    "if Num1>Num2 and Num1>Num3:\n",
    "    print(\"First Num is bigger :%s ! \" %(Num1))\n",
    "elif Num2>Num1 and Num2>Num3 :\n",
    "    print(\"Second Num is bigger : %s! \"%(Num2))\n",
    "elif Num3>Num1 and Num3>Num2 :\n",
    "    print(\"3th Num is bigger : %s! \"%(Num3))\n",
    "else :\n",
    "    print(\"3 Nums are equal\")"
   ]
  },
  {
   "cell_type": "code",
   "execution_count": 5,
   "id": "8c9e04f8",
   "metadata": {},
   "outputs": [
    {
     "name": "stdout",
     "output_type": "stream",
     "text": [
      "Enter First Num : 10\n",
      "Enter Num :20\n",
      "Enter Num :30\n",
      "Enter Num :11\n",
      "Enter Num :1\n",
      "Enter Num :2\n",
      "Enter Num :3\n",
      "Enter Num :10\n",
      "Enter Num :14\n",
      "Enter Num :15\n",
      "30\n"
     ]
    }
   ],
   "source": [
    "Max = int(input(\"Enter First Num : \"))\n",
    "counter = 1\n",
    "\n",
    "while counter <100 :\n",
    "    Num1 = int(input(\"Enter Num :\"))\n",
    "    counter += 1 \n",
    "    if Num1 >Max :\n",
    "        Max = Num1\n",
    "print(Max)"
   ]
  },
  {
   "cell_type": "code",
   "execution_count": 6,
   "id": "bb12aa49",
   "metadata": {},
   "outputs": [
    {
     "name": "stdout",
     "output_type": "stream",
     "text": [
      "Enter First Num :12\n",
      "Enter Num2 : 13\n",
      "Enter Num2 : 10\n",
      "Enter Num2 : 1\n",
      "Enter Num2 : 2\n",
      "Enter Num2 : 3\n",
      "Enter Num2 : 50\n",
      "Enter Num2 : 1\n",
      "Enter Num2 : 16\n",
      "Enter Num2 : 174\n",
      "Max is 174\n",
      "Min is 1\n"
     ]
    }
   ],
   "source": [
    "Num1 = int(input(\"Enter First Num :\"))\n",
    "Max = Num1 \n",
    "Min = Num1 \n",
    "count = 1 \n",
    "\n",
    "while count<100:\n",
    "    Num2 = int(input(\"Enter Num2 : \"))\n",
    "    if Num2 > Max :\n",
    "        Max = Num2\n",
    "    elif Num2<Min :\n",
    "        Min = Num2 \n",
    "    count +=1 \n",
    "print(\"Max is %s\"%(Max))\n",
    "print(\"Min is %s\"%(Min))\n",
    "    "
   ]
  },
  {
   "cell_type": "code",
   "execution_count": 7,
   "id": "a0d8bdbb",
   "metadata": {},
   "outputs": [
    {
     "name": "stdout",
     "output_type": "stream",
     "text": [
      "Enter Num :10\n",
      "Enter Num :20\n",
      "Enter Num :14\n",
      "Enter Num :15\n",
      "Enter Num :1\n",
      "Enter Num :2\n",
      "Enter Num :35\n",
      "Enter Num :65\n",
      "Enter Num :66\n",
      "Enter Num :152\n",
      "[10, 20, 14, 15, 1, 2, 35, 65, 66, 152]\n",
      "[1, 2, 10, 14, 15, 20, 35, 65, 66, 152]\n"
     ]
    }
   ],
   "source": [
    "#Sort : Kochak b bozorg\n",
    "L1 = []\n",
    "\n",
    "for x in range(0,10):\n",
    "    L1.append(int(input(\"Enter Num :\")))\n",
    "\n",
    "print(L1)\n",
    "def sort(get_list):\n",
    "    for i in range(1, len(get_list)):\n",
    "        if(get_list[i]<get_list[i-1]):\n",
    "            j = i \n",
    "            while L1[j] < get_list[j-1] and j>0:\n",
    "                get_list[j],get_list[j-1] = get_list[j-1], get_list[j]\n",
    "                j = j-1\n",
    "    return get_list\n",
    "\n",
    "print(sort(L1))"
   ]
  },
  {
   "cell_type": "markdown",
   "id": "a1c8c491",
   "metadata": {},
   "source": [
    "# Jalase sevom "
   ]
  },
  {
   "cell_type": "code",
   "execution_count": 8,
   "id": "55bc6537",
   "metadata": {},
   "outputs": [
    {
     "name": "stdout",
     "output_type": "stream",
     "text": [
      "Enter Num :52\n",
      "Enter Num :35\n",
      "Enter Num :1\n",
      "Enter Num :2\n",
      "Enter Num :3\n",
      "Enter Num :45\n",
      "Enter Num :54\n",
      "Enter Num :65\n",
      "Enter Num :66\n",
      "Enter Num :14\n",
      "[52, 35, 1, 2, 3, 45, 54, 65, 66, 14]\n",
      "[66, 65, 54, 52, 45, 35, 14, 3, 2, 1]\n"
     ]
    }
   ],
   "source": [
    "#sort bozorg b kochik\n",
    "L1 = []\n",
    "\n",
    "for x in range(0,10):\n",
    "    L1.append(int(input(\"Enter Num :\")))\n",
    "\n",
    "print(L1)\n",
    "def sort(get_list):\n",
    "    for i in range(1, len(get_list)):\n",
    "        if(get_list[i]>get_list[i-1]):\n",
    "            j = i \n",
    "            while L1[j] >get_list[j-1] and j>0:\n",
    "                get_list[j],get_list[j-1] = get_list[j-1], get_list[j]\n",
    "                j = j-1\n",
    "    return get_list\n",
    "\n",
    "print(sort(L1))\n",
    "        "
   ]
  },
  {
   "cell_type": "code",
   "execution_count": 9,
   "id": "d3f22632",
   "metadata": {},
   "outputs": [
    {
     "name": "stdout",
     "output_type": "stream",
     "text": [
      "Enter First Num :12\n",
      "Enter Second Num :15\n",
      "Enter 3th  Num :14\n",
      "15\n"
     ]
    }
   ],
   "source": [
    "Num1 = int(input(\"Enter First Num :\"))\n",
    "Num2 = int(input(\"Enter Second Num :\"))\n",
    "Num3 = int(input(\"Enter 3th  Num :\"))\n",
    "\n",
    "if Num1>Num2 and Num1>Num3:\n",
    "    print(Num1)\n",
    "elif Num2>Num1 and Num2>Num3:\n",
    "    print(Num2)\n",
    "elif Num3>Num1 and Num3>Num2:\n",
    "    print(Num3)\n",
    "else:\n",
    "    Print(\"3 Nums are equal \")"
   ]
  },
  {
   "cell_type": "markdown",
   "id": "939486f4",
   "metadata": {},
   "source": [
    "\n",
    "# Jalase 4"
   ]
  },
  {
   "cell_type": "code",
   "execution_count": 10,
   "id": "6503fc29",
   "metadata": {},
   "outputs": [
    {
     "name": "stdout",
     "output_type": "stream",
     "text": [
      "Enter Num :10\n",
      "Enter Num :20\n",
      "Enter Num :15\n",
      "Enter Num :11\n",
      "Enter Num :2\n",
      "Enter Num :3\n",
      "Enter Num :5\n",
      "Enter Num :6\n",
      "Enter Num :65\n",
      "Enter Num :687\n",
      "687\n"
     ]
    }
   ],
   "source": [
    "Max = int(input(\"Enter Num :\"))\n",
    "\n",
    "for i in range (1,10):\n",
    "    Num = int(input(\"Enter Num :\"))\n",
    "    if Num >Max :\n",
    "        Max = Num \n",
    "print(Max)"
   ]
  },
  {
   "cell_type": "code",
   "execution_count": 11,
   "id": "b8d4d20c",
   "metadata": {},
   "outputs": [
    {
     "name": "stdout",
     "output_type": "stream",
     "text": [
      "Enter Num :8\n",
      "Even\n"
     ]
    }
   ],
   "source": [
    "Num = int(input(\"Enter Num :\"))\n",
    "\n",
    "if (Num%2== 0):\n",
    "    print(\"Even\")\n",
    "else :\n",
    "    print(\"Add\")"
   ]
  },
  {
   "cell_type": "code",
   "execution_count": 12,
   "id": "87a75940",
   "metadata": {},
   "outputs": [
    {
     "name": "stdout",
     "output_type": "stream",
     "text": [
      "Enter First Num :1\n",
      "Enter Second Num :50\n",
      "[2, 4, 6, 8, 10, 12, 14, 16, 18, 20, 22, 24, 26, 28, 30, 32, 34, 36, 38, 40, 42, 44, 46, 48]\n"
     ]
    }
   ],
   "source": [
    "Num1 = int(input(\"Enter First Num :\"))\n",
    "Num2 = int(input(\"Enter Second Num :\"))\n",
    "L1 = []\n",
    "for i in range(Num1+1,Num2):\n",
    "    if (i%2 ==0):\n",
    "        L1.append(i)\n",
    "print(L1)"
   ]
  },
  {
   "cell_type": "code",
   "execution_count": 14,
   "id": "fc648009",
   "metadata": {},
   "outputs": [
    {
     "name": "stdout",
     "output_type": "stream",
     "text": [
      "Enter Num :7\n",
      "F\n"
     ]
    }
   ],
   "source": [
    "Num = int(input(\"Enter Num :\"))\n",
    "count = 0 \n",
    "\n",
    "for i in range(2,Num):\n",
    "    if (Num%i==0):\n",
    "        count += 1 \n",
    "\n",
    "if count > 0 :\n",
    "    print(\"H\")\n",
    "else:\n",
    "    print(\"F\")\n",
    "    "
   ]
  },
  {
   "cell_type": "code",
   "execution_count": 15,
   "id": "1342dcf8",
   "metadata": {},
   "outputs": [
    {
     "name": "stdout",
     "output_type": "stream",
     "text": [
      "Enter First Num :1\n",
      "Enter Second Num :20\n",
      "[5, 7, 9, 11, 13, 15, 17, 19]\n"
     ]
    }
   ],
   "source": [
    "Num1 = int(input(\"Enter First Num :\"))\n",
    "Num2 = int(input(\"Enter Second Num :\"))\n",
    "L1 = []\n",
    "count = 0\n",
    "\n",
    "if Num1 > Num2 :\n",
    "    Num1 = Num1+Num2\n",
    "    Num2 = Num1-Num2\n",
    "    Num1 = Num1-Num2\n",
    "\n",
    "for numb in range(Num1+1, Num2):\n",
    "    for j in range(2,numb):\n",
    "        if (numb%j==0):\n",
    "            count += 1 \n",
    "            break\n",
    "        if count != 0 :\n",
    "            L1.append(numb)\n",
    "            break\n",
    "print(L1)\n",
    "                \n",
    "        "
   ]
  },
  {
   "cell_type": "markdown",
   "id": "e22e53a0",
   "metadata": {},
   "source": [
    "# Jalase 5 "
   ]
  },
  {
   "cell_type": "code",
   "execution_count": 7,
   "id": "ea1040fb",
   "metadata": {},
   "outputs": [
    {
     "name": "stdout",
     "output_type": "stream",
     "text": [
      "Enter First Num :1\n",
      "Enter Second Num :20\n",
      "[2]\n"
     ]
    }
   ],
   "source": [
    "Num1 = int(input(\"Enter First Num :\"))\n",
    "Num2 = int(input(\"Enter Second Num :\"))\n",
    "L1 = []\n",
    "count = 0\n",
    "\n",
    "if Num1 > Num2 :\n",
    "    Num1 = Num1+Num2\n",
    "    Num2 = Num1-Num2\n",
    "    Num1 = Num1-Num2\n",
    "\n",
    "    \n",
    "b = 0\n",
    "for i in range(1, num+1):\n",
    "    if (num % i == 0):\n",
    "        b += i \n",
    "\n",
    "if (b ==num*2) :\n",
    "    print(\"Yes\")\n",
    "else:\n",
    "    print(\"No\")"
   ]
  },
  {
   "cell_type": "code",
   "execution_count": 27,
   "id": "29b22d8b",
   "metadata": {},
   "outputs": [
    {
     "name": "stdout",
     "output_type": "stream",
     "text": [
      "Enter First Num :2\n",
      "Enter Second Num :20\n",
      "False\n",
      "False\n",
      "False\n",
      "False\n",
      "True\n",
      "False\n",
      "False\n",
      "False\n",
      "False\n",
      "False\n",
      "False\n",
      "False\n",
      "False\n",
      "False\n",
      "False\n",
      "False\n",
      "False\n",
      "False\n",
      "False\n",
      "[]\n"
     ]
    }
   ],
   "source": [
    "Num1 = int(input(\"Enter First Num :\"))\n",
    "Num2 = int(input(\"Enter Second Num :\"))\n",
    "L1 = []\n",
    "\n",
    "\n",
    "if Num1 > Num2 :\n",
    "    Num1 = Num1+Num2\n",
    "    Num2 = Num1-Num2\n",
    "    Num1 = Num1-Num2\n",
    "\n",
    "for i in range (Num1, Num2+1):\n",
    "    count = 0\n",
    "    for j in range(1,i+1):\n",
    "        if (i%j ==0):\n",
    "            count += j  \n",
    "    if (count== 2*i):\n",
    "        print(\"True\")\n",
    "        \n",
    "    else:\n",
    "        print(\"False\")\n",
    "        \n",
    "print(L1)"
   ]
  },
  {
   "cell_type": "code",
   "execution_count": 12,
   "id": "a42479af",
   "metadata": {},
   "outputs": [
    {
     "data": {
      "text/plain": [
       "[]"
      ]
     },
     "execution_count": 12,
     "metadata": {},
     "output_type": "execute_result"
    }
   ],
   "source": [
    "L1"
   ]
  },
  {
   "cell_type": "code",
   "execution_count": null,
   "id": "aa7bb802",
   "metadata": {},
   "outputs": [],
   "source": []
  }
 ],
 "metadata": {
  "kernelspec": {
   "display_name": "Python 3 (ipykernel)",
   "language": "python",
   "name": "python3"
  },
  "language_info": {
   "codemirror_mode": {
    "name": "ipython",
    "version": 3
   },
   "file_extension": ".py",
   "mimetype": "text/x-python",
   "name": "python",
   "nbconvert_exporter": "python",
   "pygments_lexer": "ipython3",
   "version": "3.9.13"
  }
 },
 "nbformat": 4,
 "nbformat_minor": 5
}
